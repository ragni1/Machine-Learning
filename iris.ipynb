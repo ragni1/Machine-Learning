###################################################
# Description:- This project is on iris dataset.  #
# Aim: To clasify specirs into one of these classes
#      1. Verginica
#      2. Setosa
#      3. Versi-color
###################################################
from sklearn.neighbors import KNeighborsClassifier
from sklearn.metrics import accuracy_score
from sklearn.datasets import load_iris
from sklearn.model_selection import train_test_split

# Load data iris as dataframe
#load_iris?
data = load_iris()
X_train, X_test, y_train, y_test = train_test_split(data.data,data.target, test_size = 0.3,random_state= 42,stratify= data.target)
# Call model 
lr = KNeighborsClassifier()
lr.fit(X_train, y_train)
y_pred = lr.predict(X_test)
#  Model Performance Evaluation
# For classification model, performance score = total correct prediction / total prediction
print("Model Prediction Accuracy is:",accuracy_score(y_test,y_pred)*100)
