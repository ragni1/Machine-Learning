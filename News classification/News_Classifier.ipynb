{
 "cells": [
  {
   "cell_type": "markdown",
   "metadata": {},
   "source": [
    "# By  - Rageeni Sah"
   ]
  },
  {
   "cell_type": "markdown",
   "metadata": {},
   "source": [
    "## This model is inteded to classify newspapers category(technical/financial) based on the content in the newspaper."
   ]
  },
  {
   "cell_type": "code",
   "execution_count": 23,
   "metadata": {
    "collapsed": true
   },
   "outputs": [],
   "source": [
    "# Financial and technology articles taken from webhose.io\n",
    "import pandas as pd\n",
    "import json\n",
    "import glob\n",
    "%matplotlib inline"
   ]
  },
  {
   "cell_type": "code",
   "execution_count": 50,
   "metadata": {
    "collapsed": true
   },
   "outputs": [],
   "source": [
    "# Open json files and store it \n",
    "with open('technical_news/news_0000008.json','r') as infile:\n",
    "    d = json.loads(infile.read())"
   ]
  },
  {
   "cell_type": "code",
   "execution_count": 25,
   "metadata": {},
   "outputs": [
    {
     "data": {
      "text/plain": [
       "dict_keys(['organizations', 'uuid', 'thread', 'author', 'url', 'ord_in_thread', 'title', 'locations', 'entities', 'highlightText', 'language', 'persons', 'text', 'external_links', 'published', 'crawled', 'highlightTitle'])"
      ]
     },
     "execution_count": 25,
     "metadata": {},
     "output_type": "execute_result"
    }
   ],
   "source": [
    "d.keys()"
   ]
  },
  {
   "cell_type": "code",
   "execution_count": 64,
   "metadata": {
    "collapsed": true
   },
   "outputs": [],
   "source": [
    "def getText(f):\n",
    "    with open(f,'r', encoding='utf-8') as inFile:\n",
    "        d = json.loads(inFile.read())\n",
    "    return (d['text'])"
   ]
  },
  {
   "cell_type": "code",
   "execution_count": 71,
   "metadata": {},
   "outputs": [
    {
     "name": "stdout",
     "output_type": "stream",
     "text": [
      "Wall time: 254 ms\n",
      "Wall time: 199 ms\n"
     ]
    }
   ],
   "source": [
    "# Read a number of json files from technical_news/financial_news folders and assign text values to corresponding variables: technicalNews and financialNews\n",
    "%time technicalNews = list(map(getText,glob.glob('technical_news/news_[0-9][0-9]*json')))\n",
    "%time financialNews = list(map(getText,glob.glob('financial_news/news_[0-9][0-9]*json')))"
   ]
  },
  {
   "cell_type": "code",
   "execution_count": 99,
   "metadata": {},
   "outputs": [
    {
     "data": {
      "text/plain": [
       "420"
      ]
     },
     "execution_count": 99,
     "metadata": {},
     "output_type": "execute_result"
    }
   ],
   "source": [
    "len(technicalNews)"
   ]
  },
  {
   "cell_type": "code",
   "execution_count": 100,
   "metadata": {},
   "outputs": [
    {
     "data": {
      "text/plain": [
       "420"
      ]
     },
     "execution_count": 100,
     "metadata": {},
     "output_type": "execute_result"
    }
   ],
   "source": [
    "len(financialNews)"
   ]
  },
  {
   "cell_type": "code",
   "execution_count": 75,
   "metadata": {},
   "outputs": [],
   "source": [
    "# Add news text in dataframe with proper labelling of 'Financial' and 'Technical' \n",
    "df = pd.DataFrame(data = {'text': technicalNews, 'type':'Technical'})\n",
    "df = df.append(pd.DataFrame(data = {'text':financialNews, 'type':'Financial'}))"
   ]
  },
  {
   "cell_type": "code",
   "execution_count": 79,
   "metadata": {},
   "outputs": [],
   "source": [
    "# Import packages\n",
    "from sklearn.feature_extraction.text import CountVectorizer, TfidfTransformer\n",
    "from sklearn.pipeline import Pipeline\n",
    "from sklearn.preprocessing import LabelBinarizer\n",
    "from sklearn.model_selection import train_test_split\n",
    "from sklearn.naive_bayes import MultinomialNB\n",
    "from sklearn.metrics import f1_score"
   ]
  },
  {
   "cell_type": "code",
   "execution_count": 83,
   "metadata": {},
   "outputs": [],
   "source": [
    "# Now preprocess data [Feature Extraction]\n",
    "lb = LabelBinarizer()\n",
    "lb.fit(df['type'])\n",
    "df['type'] = lb.transform(df['type']) #['Technical = 1, Financial = 0']"
   ]
  },
  {
   "cell_type": "code",
   "execution_count": 85,
   "metadata": {},
   "outputs": [],
   "source": [
    "pipeline = Pipeline(steps=[('vectorise', CountVectorizer()),\n",
    "                          ('transform', TfidfTransformer()),\n",
    "                          ('clf',MultinomialNB())])\n",
    "# Pipeline has three steps"
   ]
  },
  {
   "cell_type": "code",
   "execution_count": 91,
   "metadata": {},
   "outputs": [],
   "source": [
    "trainX, testX, trainY, testY = train_test_split(df['text'],df['type'], test_size = 0.25)"
   ]
  },
  {
   "cell_type": "code",
   "execution_count": 109,
   "metadata": {},
   "outputs": [],
   "source": [
    "# Train\n",
    "pipeline = pipeline.fit(trainX, trainY)"
   ]
  },
  {
   "cell_type": "code",
   "execution_count": 110,
   "metadata": {},
   "outputs": [],
   "source": [
    "# Test\n",
    "pred_train = pipeline.predict(trainX)\n",
    "pred_test = pipeline.predict(testX)"
   ]
  },
  {
   "cell_type": "code",
   "execution_count": 111,
   "metadata": {},
   "outputs": [
    {
     "name": "stdout",
     "output_type": "stream",
     "text": [
      "On train_data: Accuracy is 0.959\n",
      "On test_data: Accuracy is 0.900\n"
     ]
    }
   ],
   "source": [
    "print('On train_data: Accuracy is {:.3f}'.format(f1_score(trainY, pred_train))) \n",
    "print('On test_data: Accuracy is {:.3f}'.format(f1_score(testY, pred_test))) "
   ]
  }
 ],
 "metadata": {
  "kernelspec": {
   "display_name": "Python 3",
   "language": "python",
   "name": "python3"
  },
  "language_info": {
   "codemirror_mode": {
    "name": "ipython",
    "version": 3
   },
   "file_extension": ".py",
   "mimetype": "text/x-python",
   "name": "python",
   "nbconvert_exporter": "python",
   "pygments_lexer": "ipython3",
   "version": "3.6.3"
  }
 },
 "nbformat": 4,
 "nbformat_minor": 2
}
